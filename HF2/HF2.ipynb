{
 "cells": [
  {
   "cell_type": "markdown",
   "id": "1b75eb2b-3f99-493d-8415-da576a0cca4c",
   "metadata": {},
   "source": [
    "# Pénzügyi adatelemzés \n",
    "### Második házi feladat\n",
    "### Garbage in - garbage out\n",
    "\n",
    "A házi feladatot itt a notebook-ban kell megoldani\n",
    "- legfeljebb 4 fős csapatokban és\n",
    "- ipynb (Jupyter Notebook) formátumban a Moodle-re feltölteni <span style=\"color:red\">**2025-11-09 vasárnap este 23:55-ig**</span> csapatonként EGY példányban (tehát NE töltse fel mindenki).\n",
    "- A csapatokra vonatkozólag nincs más megkötés, mint, hogy legfeljebb 4 fősek lehetnek, lehet dolgozni akár párban, akár egyedül is, nem szükséges a csapattagoknak ugyanabba a szemináriumi csoportba járni, és eltérhetnek az első házi feladat csapataitól. \n",
    "- A csapattagok nevét, Neptun-kódját és \"uni-corvinus\"-os e-mail címét írjátok be a notebook második cellájába. Minden feltöltött file-ra az a hallgató fog pontot kapni, akinek az adatai itt hibátlanul szerepelnek. Ha ugyanaz a csapat több file-t is feltölt, akkor pontot vonunk le. \n",
    "\n",
    "Minden kérdés után van a szöveges válasznak vagy kódnak egy üres cella, de természetesen lehet újabb cellákat is beszúrni és további függvényeket írni.\n",
    "\n",
    "Nem feltétlenül elegendő az előre megírt függvényeket kiegészíteni, a kódnak minden, a feladatben kért output-ot el kell készítenie és a cellákra sorban kattintva hibátlanul lefutnia. A feladat értékelésénél nem fogunk semmilyen további kódot hozzáírni, ha valaki elfelejt meghívni egy függvényt, akkor pontot veszíthet. Mivel a notebook egyetlen session, emlékszik minden változóra, akkor is, ha az azt létrehozó kódot később kitöröljük, így ellenőrzésként célszerű a végső verzió tesztelése előtt újraindítani a kernel-t vagy bezárni a file-t újraindítani a szervert, és úgy kipróbálni.\n",
    "\n",
    "Az elméleti kérdésekre adott válaszok legyenek rövidek, pontosak, lényegre törőek, a szükséges mennyiségű, de nem több indoklással. Aki válaszként mindent is leír, (ahogy a chatGPT szokta), azt negatívan értékeljük. Az ábrákat nem kell \"szép\"-re formázni, megfelelnek az alapértelmezett beállítások. A kódok a kért feladatokat oldják meg, ne valami mást vagy általánosabbat, a számítások egyes lépéseit szükség esetén egy-két szavas kommentekkel el lehet látni.\n",
    "\n",
    "AI indokolt esetben és módon használható, de meg kell jelölni, hogy hol, mire és miért használtátok. Ha Python kód generálásra használtok generatív AI-t, akkor másoljátok ki a promt-ot (az AI-nak adott utasítást) egy külön cellába.\n",
    "\n",
    "A szimulációk paramétereit a beadott file-ban úgy állítsátok be, hogy a kódok futása gyors (legfeljebb néhány másodperc) legyen, de a szöveges válaszokban összefoglalhatjátok a szimulációk eredményeit nagyobb mintaelemszámra is. Sokáig futó kódhoz célszerű a `tqdm` package `tqdm` függvényét használni, ami egy szépen formázott progressbart készít egy `for` ciklushoz. "
   ]
  },
  {
   "cell_type": "markdown",
   "id": "42bff253-c025-4ac5-acfe-3a224c348eda",
   "metadata": {},
   "source": [
    "**Csapattagok (név, Neptun-kód, e-mail cím):**"
   ]
  },
  {
   "cell_type": "markdown",
   "id": "ff865065-abee-4af3-8905-e8458855f9c6",
   "metadata": {},
   "source": [
    "A feladatok célja azt illusztrálni, hogyan hat a regressziós modellre ha \"ész nélkül\" minden változót beleteszünk, ami rendelkezésre áll.  \n"
   ]
  },
  {
   "cell_type": "code",
   "execution_count": null,
   "id": "fc00bcf4-76a5-48ed-bea6-aa36c79707b3",
   "metadata": {},
   "outputs": [],
   "source": [
    "# A cellákban külön importokat ne tegyünk, egy helyen töltsük be az összes felhasznált package-t. \n",
    "# Az összes feladat megoldható ezekkel (de persze lehet bővíteni a listát):\n",
    "\n",
    "from matplotlib import pyplot as plt\n",
    "import numpy as np\n",
    "import statsmodels.api as sm\n",
    "import seaborn as sns\n",
    "from tqdm import tqdm"
   ]
  },
  {
   "cell_type": "markdown",
   "id": "4876c96a-0978-4dab-b423-f33df66815c5",
   "metadata": {},
   "source": [
    "#### 1. Feladat\n",
    "\n",
    "Legyen $k$, $l$ és $m$ pozitív egész számok, $x_1, x_2, \\dots, x_k$ és $\\varepsilon$ független standard normális eloszlású valószínűségi változók, $\\sigma\\in\\mathbb{R}$ egy pozitív szám és tekintsük az\n",
    "\\begin{equation}\n",
    "Y = \\sum_{i = 1}^k \\frac{(k-i+1)}{k} x_i + \\sigma\\varepsilon\n",
    "\\tag{E}\n",
    "\\end{equation}\n",
    "regressziós egyenletet. Az adatgeneráló folyamat tehát tartalmaz $k$ darab magyarázó változót egyre csökkenő bétákkal tehát, például $k=5$-re $$Y = x_1 + \\frac{4}{5}x_2 + \\frac{3}{5}x_3 + \\frac{2}{5}x_4 + \\frac{1}{5}x_5 + \\sigma\\varepsilon$$.\n",
    "\n",
    "Írjunk egy függvényt, ami adott $m$, $k$, $l$ és $\\sigma$ függvényében generál egy olyan adattáblát, amely $m$ darab megfigyelést ($m$ sort) tartalmaz \n",
    "\n",
    "- a fenti $k$ darab független standard normális eloszlású magyarázó változóból,\n",
    "- $l$ darab ún. zajváltozóból (melyek mind egymástól, mind a többi $x_i$-től független standard normális eloszlású változók),\n",
    "- és az $(E)$ egyenlet szerinti célváltozóból, melyeknek tehát semmi közük a zajváltozókhoz.\n",
    "\n",
    "Az adattáblát a későbbi kényelmesebb használat érdekében úgy is létrehozhatjuk, hogy csak a magyarázó változókat és a zajváltozókat (tehát csak $x$-eket) tartalmazza, a célváltozót pedig külön egy `tuple` második elemeként adja vissza a függvény.  \n"
   ]
  },
  {
   "cell_type": "code",
   "execution_count": null,
   "id": "a8509d10-a64d-43e8-9125-96dfc67e3a16",
   "metadata": {},
   "outputs": [],
   "source": [
    "def generate_data(m, k, l, sigma = 1):\n",
    "    return"
   ]
  },
  {
   "cell_type": "markdown",
   "id": "e6984f12-19b0-4b44-bda8-522e264eb0e7",
   "metadata": {},
   "source": [
    "#### 2. Feladat\n",
    "\n",
    "Írjunk egy függvényt, amely az adatok és egy $\\alpha$ signifikanciaszint alapján megbecsüli a regressziós modellt és visszaad egy $k+l$ elemű vektort (listát vagy tuple-t vagy numpy array-t), amely az összes magyarázó változó (a zajváltozókat is beleértve) $t$-tesztjének $p$-értékei alapján egy logikai értékekből álló vektort ad vissza, annak megfelelően, hogy az adott változó $t$-tesztje a megadott $\\alpha$ szinten szignifikáns-e.\n",
    "\n",
    "Elméleti kérdés: egy \"tökéletes világban\" milyen eredményeket (milyen True/False értékeket) kéne ennek a függvénynek visszaadni?"
   ]
  },
  {
   "cell_type": "code",
   "execution_count": null,
   "id": "c17ec231-c011-474b-9360-58894933e60d",
   "metadata": {},
   "outputs": [],
   "source": [
    "def beta_sign_test(data, alpha = 0.95):\n",
    "    return"
   ]
  },
  {
   "cell_type": "markdown",
   "id": "be9403c7-bb88-4306-9176-b7c888d99bb2",
   "metadata": {},
   "source": [
    "#### 3. Feladat"
   ]
  },
  {
   "cell_type": "markdown",
   "id": "190a6d36-2092-4f3c-9324-a102d76ec045",
   "metadata": {},
   "source": [
    "Legyen az egyszerűség kedvéért $\\alpha = 95\\%$, $\\sigma = 1$ és $k = 5$. Futtassunk szimulációt a 2. feladatban megírt függvény használatával az $l$ (a zajváltozók száma) és az $m$ (megfigyelések száma) különböző kombinációira, és próbáljuk meg szimulációval megállapítani, hogy adott számú zajváltozó esetén hány megfigyelés kell ahhoz, hogy \"nagy valószínűséggel jó eredményt\" kapjunk a feladatból, tehát mondjuk 90%-os valószínűséggel a modell válassza szét, a zajváltozókat és a releváns változókat. \n",
    "\n",
    "Megjegyzés: Itt nem várunk feltétlenül tökéletesen egzakt megoldást, de mondjatok valami értelmeset arról, hogy mennyi adat biztos, hogy nem elég a megbízható eredményhez, és mennyi adat lesz már nagyon nagy valószínűséggel elég. A főbb megállapításokat foglaljátok össze szövegesen, illetve további opcionális (nem kötelező) feladatként készítsetek három  táblázatot, amelyben különböző $l$ és $m$ kombinációkra szimuláció alapján annak a valószínűsége van, hogy\n",
    "\n",
    "- a modell legalább 1 releváns magyarázó változót megtalál,\n",
    "- a modell nem talál szignifikánsnak egyetlen zajváltozót sem,\n",
    "- a modell felismeri az adatgeneráló folyamatot, azaz szét tudja választani a releváns magyarázó változókat a zajtól.\n",
    "\n",
    "Azt itt nem kell értékelni, hogy mekkora hibával találja meg a modell bétákat, csak azt, hogy melyiket tekinti nullának illetve nem nullának a $t$-teszt). A táblázatot olyan $l$ és $m$ kombinációkból rakjátok össze, hogy abban a releváns eredmények látszódjanak, tehát nemtriviális átmenetek nem csak 0-k és 1-esek."
   ]
  },
  {
   "cell_type": "code",
   "execution_count": null,
   "id": "398af075-3f0d-4d64-9093-fa69c6b47ed5",
   "metadata": {},
   "outputs": [],
   "source": [
    "# SZIMULÁCIÓ"
   ]
  },
  {
   "cell_type": "markdown",
   "id": "60e802b5-0ebb-4c12-93de-d242789a6a0e",
   "metadata": {},
   "source": [
    "<div style=\"color:blue\">\n",
    "Konklúziók\n",
    "</div>"
   ]
  }
 ],
 "metadata": {
  "kernelspec": {
   "display_name": "Python 3 (ipykernel)",
   "language": "python",
   "name": "python3"
  },
  "language_info": {
   "codemirror_mode": {
    "name": "ipython",
    "version": 3
   },
   "file_extension": ".py",
   "mimetype": "text/x-python",
   "name": "python",
   "nbconvert_exporter": "python",
   "pygments_lexer": "ipython3",
   "version": "3.10.12"
  }
 },
 "nbformat": 4,
 "nbformat_minor": 5
}
