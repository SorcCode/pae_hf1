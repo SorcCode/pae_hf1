{
 "cells": [
  {
   "cell_type": "markdown",
   "id": "1b75eb2b-3f99-493d-8415-da576a0cca4c",
   "metadata": {},
   "source": [
    "# Pénzügyi adatelemzés \n",
    "### Első házi feladat\n",
    "### Homoszkedaszticitás tesztelés\n",
    "\n",
    "A házi feladatot itt a notebook-ban kell megoldani\n",
    "- legfeljebb 4 fős csapatokban és\n",
    "- ipynb (Jupyter Notebook) formátumban a Moodle-re feltölteni <span style=\"color:red\">**2025-10-31 péntek du. 4**</span> óráig, csapatonként EGY példányban (tehát NE töltse fel mindenki).\n",
    "- A csapatokra vonatkozólag nincs más megkötés, mint, hogy legfeljebb 4 fősek lehetnek, lehet dolgozni akár párban, akár egyedül is és nem szükséges a csapattagoknak ugyanabba a szemináriumi csoportba járni. \n",
    "- A csapattagok nevét, Neptun-kódját és \"uni-corvinus\"-os e-mail címét írjátok be a notebook második cellájába. Minden feltöltött file-ra az a hallgató fog pontot kapni, akinek az adatai itt hibátlanul szerepelnek. Ha ugyanaz a csapat több file-t is feltölt, akkor pontot vonunk le. \n",
    "\n",
    "Minden kérdés után van a szöveges válasznak vagy kódnak egy üres cella, de természetesen lehet újabb cellákat is beszúrni és további függvényeket írni.\n",
    "\n",
    "Nem feltétlenül elegendő az előre megírt függvényeket kiegészíteni, a kódnak minden, a feladatben kért output-ot el kell készítenie és a cellákra sorban kattintva hibátlanul lefutnia. A feladat értékelésénél nem fogunk semmilyen további kódot hozzáírni, ha valaki elfelejt meghívni egy függvényt, akkor pontot veszíthet. Mivel a notebook egyetlen session, emlékszik minden változóra, akkor is, ha az azt létrehozó kódot később kitöröljük, így ellenőrzésként célszerű a végső verzió tesztelése előtt újraindítani a kernel-t vagy bezárni a file-t újraindítani a szervert, és úgy kipróbálni.\n",
    "\n",
    "Az elméleti kérdésekre adott válaszok legyenek rövidek, pontosak, lényegre törőek, a szükséges mennyiségű, de nem több indoklással. Aki válaszként mindent is leír, (ahogy a chatGPT szokta), azt negatívan értékeljük. Az ábrákat nem kell \"szép\"-re formázni, megfelelnek az alapértelmezett beállítások. A kódok a kért feladatokat oldják meg, ne valami mást vagy általánosabbat, a számítások egyes lépéseit szükség esetén egy-két szavas kommentekkel el lehet látni.\n",
    "\n",
    "AI indokolt esetben és módon használható, de meg kell jelölni, hogy hol, mire és miért használtátok. Ha Python kód generálásra használtok generatív AI-t, akkor másoljátok ki a promt-ot (az AI-nak adott utasítást) egy külön cellába.\n",
    "\n",
    "A szimulációk paramétereit a beadott file-ban úgy állítsátok be, hogy a kódok futása gyors (legfeljebb néhány másodperc) legyen, de a szöveges válaszokban összefoglalhatjátok a szimulációk eredményeit nagyobb mintaelemszámra is. Sokáig futó kódhoz célszerű a `tqdm` package `tqdm` függvényét használni, ami egy szépen formázott progressbart készít egy `for` ciklushoz. "
   ]
  },
  {
   "cell_type": "markdown",
   "id": "a22732d0-8be6-45b3-9462-fdbf5bcda636",
   "metadata": {},
   "source": [
    "**Csapat tagjai (név, neptun kód, e-mail-cím):**\n",
    "\n",
    "\n"
   ]
  },
  {
   "cell_type": "code",
   "execution_count": 2,
   "id": "fc00bcf4-76a5-48ed-bea6-aa36c79707b3",
   "metadata": {},
   "outputs": [],
   "source": [
    "# A cellákban külön importokat ne tegyünk, egy helyen töltsük be az összes felhasznált package-t. \n",
    "# Az összes feladat megoldható ezekkel (de persze lehet bővíteni a listát):\n",
    "\n",
    "from matplotlib import pyplot as plt\n",
    "import numpy as np\n",
    "import statsmodels.api as sm\n",
    "import seaborn as sns\n",
    "from scipy import stats\n",
    "from statsmodels.stats.diagnostic import het_breuschpagan\n",
    "from tqdm import tqdm"
   ]
  },
  {
   "cell_type": "markdown",
   "id": "4876c96a-0978-4dab-b423-f33df66815c5",
   "metadata": {},
   "source": [
    "#### 1. Feladat\n",
    "\n",
    "Legyen $X$ és $Y$ független standard normális eloszlású valószínűségi változók, és legyen $m\\in\\mathbb{N}$ egy pozitív egész szám. Szimulációval becsüljük meg az \n",
    "\n",
    "\\begin{equation}\n",
    "Y^2\\sim \\beta_x X+\\beta_0\n",
    "\\tag{SQ}\n",
    "\\end{equation}\n",
    "\n",
    "regressziós egyenlet egy $m$ elemű mintából becsült bétájának és $R^2$-ének eloszlását. \n",
    "\n",
    "- A tanult elmélet alapján mit tudunk mondani $\\beta_x$ és az $R^2$ eloszlásáról?\n",
    "- Ábrázoljuk vizuálisan (hisztogram, sűrűségfüggvény) a szimulációval becsült $\\beta_x$ és $R^2$ eloszlását.\n"
   ]
  },
  {
   "cell_type": "markdown",
   "id": "80fa35a9-9449-4d84-a244-042f87d0ba28",
   "metadata": {},
   "source": [
    "<div style=\"color: blue\">\n",
    "Válasz:\n",
    "</div>"
   ]
  },
  {
   "cell_type": "code",
   "execution_count": 14,
   "id": "86ce3182-12fe-4f20-94c8-232b26be9363",
   "metadata": {},
   "outputs": [
    {
     "data": {
      "text/plain": [
       "<Axes: ylabel='Density'>"
      ]
     },
     "execution_count": 14,
     "metadata": {},
     "output_type": "execute_result"
    },
    {
     "data": {
      "image/png": "[encoded data removed]",
      "text/plain": [
       "<Figure size 640x480 with 1 Axes>"
      ]
     },
     "metadata": {},
     "output_type": "display_data"
    }
   ],
   "source": [
    "def sim_sqr(m):\n",
    "    x = np.random.normal(size = m)\n",
    "    X = sm.add_constant(x)\n",
    "    y = np.random.normal(size = m)\n",
    "    y2 = y**2\n",
    "\n",
    "    res = sm.OLS(y2, X).fit()\n",
    "\n",
    "    return res\n",
    "\n",
    "R2 = [sim_sqr(30).rsquared for _ in range(1000)]\n",
    "Beta = [sim_sqr(30).rsquared for _ in range(1000)]\n",
    "sns.kdeplot(R2)\n",
    "sns.kdeplot(Beta, color = \"red\")"
   ]
  },
  {
   "cell_type": "markdown",
   "id": "214c8c41-9972-4674-8812-cc199e8a55cd",
   "metadata": {},
   "source": [
    "#### 2. Feladat\n",
    "\n",
    "Legyen $X$ standard normális eloszlású valószínűségi változó, és legyen \n",
    "\\begin{equation}\n",
    "Y = 2X + 1 + N\\left(0, 0.04 + \\alpha X^2\\right)\n",
    "\\tag{H}\n",
    "\\end{equation}\n",
    "ahol $\\alpha\\in\\mathbb{R}$ egy pozitív paraméter, N a normális eloszlást jelöli, a paraméterek a várható érték és a variancia (a szimulációhoz ebből gyököt kell vonni, mert a numpy a normális eloszlást a várható értékkel és a szórással paraméterezi)."
   ]
  },
  {
   "cell_type": "markdown",
   "id": "9e067372-9e91-4412-890f-3530c6e3467f",
   "metadata": {},
   "source": [
    "- Az $\\alpha$ paraméter mely értéke(i) mellett tesz eleget a folyamat a homoszkedaszticitás feltételének és miért?\n",
    "- Írjunk függvényt, ami adott $m$ és $\\alpha$ mellett $m$ elemű mintát generál az $(X,Y)$ eloszlásból."
   ]
  },
  {
   "cell_type": "markdown",
   "id": "1f0552d6-2fdf-4297-af6a-d9794a162d32",
   "metadata": {},
   "source": [
    "<div style=\"color: blue\">\n",
    "Válasz:\n",
    "</div>"
   ]
  },
  {
   "cell_type": "code",
   "execution_count": null,
   "id": "0d61292b-cb40-4f7c-954a-aa29d96074ac",
   "metadata": {},
   "outputs": [],
   "source": [
    "def generate_data(m, alpha):\n",
    "    return"
   ]
  },
  {
   "cell_type": "markdown",
   "id": "a32f4aff-1445-4bd3-9339-bdb6021d06b9",
   "metadata": {},
   "source": [
    "#### 3. Feladat\n",
    "\n",
    "Írjunk függvényt, ami szimulálja a $(H)$ formulával meghatározott eloszlású változókra illesztett regresszió egy $m$ elemű mintából becsült  együtthatóinak eloszlását.\n",
    "\n",
    "- Miben és mennyire térnek el az eloszlások az $\\alpha$ paramétertől függően?\n",
    "- Torzítatlan, illetve\n",
    "- konzisztens lesz-e a becslés?"
   ]
  },
  {
   "cell_type": "markdown",
   "id": "71629b1c-7ca8-45e2-a59d-c590ca78a183",
   "metadata": {},
   "source": [
    "<div style=\"color: blue\">\n",
    "Válasz:\n",
    "</div>"
   ]
  },
  {
   "cell_type": "code",
   "execution_count": null,
   "id": "d9736a62-59d3-423f-973d-6ff41f70a0f0",
   "metadata": {},
   "outputs": [],
   "source": [
    "def sim_heteroscedasticity(m, alpha):\n",
    "    return"
   ]
  },
  {
   "cell_type": "markdown",
   "id": "9c111ee1-16da-4a11-9262-b0f668890d57",
   "metadata": {},
   "source": [
    "#### 4. Feladat\n",
    "\n",
    "A [Breusch-Pagan](https://en.wikipedia.org/wiki/Breusch%E2%80%93Pagan_test) teszt egy tetszőleges\n",
    "$$ Y = \\beta^Tx + \\beta_0 + \\varepsilon(\\sigma_x)$$\n",
    "lineáris regresszióban a homoszkedaszticitás detektálására szolgáló statisztikai teszt. Nullhipotézise, hogy $\\sigma_x = \\sigma$ az $x$-től valójában nem függő konstans. Technikailag úgy működik, hogy \n",
    "\n",
    "- elvégezzük a regresszió praméterbecslését,\n",
    "- kiszámoljuk az $\\varepsilon$ becsült hibatagokat és\n",
    "- a variancia ML-becslését $\\hat\\sigma^2 = \\frac{\\sum\\varepsilon_i}{n}$ (ez egy értelmetlen kifejezés, ha a nullhipotézis nem tejlesül),   \n",
    "- majd ezekből kiszámoljuk a standardizált reziduálisok négyzetét: $g = \\varepsilon^2/\\hat\\sigma^2$\n",
    "- és ezeket újra regresszáljuk az eredeti magyarázó változókkal\\begin{equation}g\\sim\\gamma^Tx + \\gamma_0.\\tag{S}\\end{equation}\n",
    "\n",
    "Megmutatható, hogy $$nR^2\\stackrel{H_0}{\\longrightarrow}\\chi^2_{p-1},$$ ahol $R^2$ az (S) segéd-regresszió $R^2$-e, így erre tudunk egy aszimptotikus $\\chi^2$-tesztet végezni."
   ]
  },
  {
   "cell_type": "markdown",
   "id": "73acbd60-f548-4163-b2f6-df488c658836",
   "metadata": {},
   "source": [
    "írjunk egy saját függvényt, a `statsmodels.stats.diagnostic` package `het_breuschpagan` függvényének reprodukálására, azaz\n",
    "\n",
    "- implementáljuk a Breusch-Pagan teszt segédregresszióját,\n",
    "- számítsuk ki az $R^2$-et és a $\\chi^2$-teszt $p$-értékét, és\n",
    "\n",
    "az eredményt hasonlítsuk összes a beépített függvény output-jával. "
   ]
  },
  {
   "cell_type": "code",
   "execution_count": null,
   "id": "418cf347-d666-46f7-a74f-1e8a3e00e05e",
   "metadata": {},
   "outputs": [],
   "source": [
    "def bp_test_with_built_in_function(data):\n",
    "    return"
   ]
  },
  {
   "cell_type": "code",
   "execution_count": null,
   "id": "dadc7d3a-8972-4b41-9571-21183f7c4f66",
   "metadata": {},
   "outputs": [],
   "source": [
    "def my_bp_test(data):\n",
    "    return"
   ]
  },
  {
   "cell_type": "code",
   "execution_count": null,
   "id": "6ad41360-ea10-4eaa-adfc-adf459cba632",
   "metadata": {},
   "outputs": [],
   "source": [
    "# Összehasonlítás:"
   ]
  },
  {
   "cell_type": "markdown",
   "id": "c10b597f-083e-4c58-a92c-63351a777dc9",
   "metadata": {},
   "source": [
    "#### 5. Feladat\n",
    "\n",
    "Szimuláljuk a BP-teszt segédregressziójában az együtthatók és az $R^2$ eloszlását a ($H$) formulával definiált változókara és hasonlítsuk össze az 1. Feladat-ban az ($SQ$) formulával meghatározott eloszlásra kapott eredményekkel. Hasonló eredményt kapunk-e amikor $\\alpha=0$? Ha igen, miért, ha nem, miért nem?"
   ]
  },
  {
   "cell_type": "markdown",
   "id": "dd98ba5e-f7da-401b-b833-6b9cf9b18126",
   "metadata": {},
   "source": [
    "<div style=\"color: blue\">\n",
    "Válasz:\n",
    "</div>"
   ]
  },
  {
   "cell_type": "code",
   "execution_count": null,
   "id": "e646563a-e694-4554-95cd-48d2ea3ca5b8",
   "metadata": {},
   "outputs": [],
   "source": [
    "def bp_regression(data):\n",
    "    return "
   ]
  },
  {
   "cell_type": "markdown",
   "id": "c0f4545e-620f-488c-9d14-effbc956d9f2",
   "metadata": {},
   "source": [
    "#### 6. Feladat\n",
    "\n",
    "A korábban megírt függvények felhasználásával írjunk egy új függvényt, ami a $p$-érték helyett konkrét True/False értéket ad vissza a homoszkedaszticitás, mint nullhipotézis eldöntésére a Breusch-Pagan teszt alapján."
   ]
  },
  {
   "cell_type": "code",
   "execution_count": null,
   "id": "56fc3b28-f151-44a2-bb5c-10057f7625fb",
   "metadata": {},
   "outputs": [],
   "source": [
    "def my_bp_homoscedasticity_test(data, sig_level = 0.95):\n",
    "    return"
   ]
  },
  {
   "cell_type": "markdown",
   "id": "ea437ef8-7b7b-416f-8d0c-e60c87b8244b",
   "metadata": {},
   "source": [
    "Futtassunk szimulációt, amely az $\\alpha$ paraméter különféle értékeire megvizsgálja, hogy mekkora valószínűséggel utasítja el BP-teszt a homoszkedaszticitást 95%-os szignifikanciaszinten. Milyen eredményekre számítunk az $\\alpha$ függvényében, elméletileg? Ezeket az eredményeket kaptuk-e? Fogalmazzuk meg pár mondatban a konklúziókat."
   ]
  },
  {
   "cell_type": "code",
   "execution_count": null,
   "id": "33292261-ec17-4134-aff2-d69ba64c6b0b",
   "metadata": {},
   "outputs": [],
   "source": [
    "def bp_test_sim(alpha, sim_size = 1000):\n",
    "    return"
   ]
  },
  {
   "cell_type": "code",
   "execution_count": null,
   "id": "fb5e9b88-854b-45db-8e39-803a1b147500",
   "metadata": {},
   "outputs": [],
   "source": [
    "# EREDMÉNYEK MEGJELENÍTÉSE"
   ]
  },
  {
   "cell_type": "markdown",
   "id": "ba650b1f-2abd-41a4-8292-0f57c432782c",
   "metadata": {},
   "source": [
    "<div style=\"color: blue\">\n",
    "Válasz:\n",
    "</div>\n",
    "\n",
    "\n",
    "\n"
   ]
  }
 ],
 "metadata": {
  "kernelspec": {
   "display_name": "Python 3 (ipykernel)",
   "language": "python",
   "name": "python3"
  },
  "language_info": {
   "codemirror_mode": {
    "name": "ipython",
    "version": 3
   },
   "file_extension": ".py",
   "mimetype": "text/x-python",
   "name": "python",
   "nbconvert_exporter": "python",
   "pygments_lexer": "ipython3",
   "version": "3.13.3"
  }
 },
 "nbformat": 4,
 "nbformat_minor": 5
}
